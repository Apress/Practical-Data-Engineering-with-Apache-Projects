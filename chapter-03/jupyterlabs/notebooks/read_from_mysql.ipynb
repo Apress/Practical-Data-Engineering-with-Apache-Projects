{
 "cells": [
  {
   "cell_type": "code",
   "execution_count": 61,
   "id": "58fbfb21-76b0-451d-b2ee-eefd5c201bbc",
   "metadata": {},
   "outputs": [],
   "source": [
    "from pyspark.sql import SparkSession\n",
    "from pyspark.sql import functions as F\n",
    "\n",
    "spark = SparkSession.builder \\\n",
    "    .appName(\"Read JSON from MinIO\") \\\n",
    "    .config(\"spark.hadoop.fs.s3a.endpoint\", \"http://minio:9000\") \\\n",
    "    .config(\"spark.hadoop.fs.s3a.access.key\", \"admin\") \\\n",
    "    .config(\"spark.hadoop.fs.s3a.secret.key\", \"password\") \\\n",
    "    .config(\"spark.hadoop.fs.s3a.impl\", \"org.apache.hadoop.fs.s3a.S3AFileSystem\") \\\n",
    "    .config(\"spark.hadoop.fs.s3a.path.style.access\", \"true\") \\\n",
    "    .config(\"spark.jars\", \"/opt/spark/jars/hadoop-aws-3.3.4.jar,/opt/spark/jars/aws-java-sdk-bundle-1.12.391.jar,/opt/spark/jars/mysql-connector-j-9.1.0.jar\") \\\n",
    "    .getOrCreate()\n",
    "\n",
    "# Database connection properties\n",
    "db_properties = {\n",
    "    \"url\": \"jdbc:mysql://mysql:3306/fakeshop\",  \n",
    "    \"user\": \"etluser\",  \n",
    "    \"password\": \"I957DO9cYXp6JDEv\",  \n",
    "    \"driver\": \"com.mysql.cj.jdbc.Driver\"\n",
    "}\n",
    "\n",
    "items_table_name = \"items\"\n",
    "purchases_table_name = \"purchases\"\n",
    "\n",
    "# Load the fakeshop.items table as a DataFrame \n",
    "items_df = spark.read \\\n",
    "    .format(\"jdbc\") \\\n",
    "    .option(\"url\", db_properties[\"url\"]) \\\n",
    "    .option(\"dbtable\", items_table_name) \\\n",
    "    .option(\"user\", db_properties[\"user\"]) \\\n",
    "    .option(\"password\", db_properties[\"password\"]) \\\n",
    "    .option(\"driver\", db_properties[\"driver\"]) \\\n",
    "    .load()\n",
    "\n",
    "# Load the fakeshop.purchases table as a DataFrame\n",
    "purchases_df = spark.read \\\n",
    "    .format(\"jdbc\") \\\n",
    "    .option(\"url\", db_properties[\"url\"]) \\\n",
    "    .option(\"dbtable\", purchases_table_name) \\\n",
    "    .option(\"user\", db_properties[\"user\"]) \\\n",
    "    .option(\"password\", db_properties[\"password\"]) \\\n",
    "    .option(\"driver\", db_properties[\"driver\"]) \\\n",
    "    .load()\n"
   ]
  },
  {
   "cell_type": "code",
   "execution_count": 57,
   "id": "c925eb4c-b936-4c09-be20-fb2da158bcc6",
   "metadata": {},
   "outputs": [
    {
     "data": {
      "text/plain": [
       "100"
      ]
     },
     "execution_count": 57,
     "metadata": {},
     "output_type": "execute_result"
    }
   ],
   "source": [
    "# Show DataFrame contents\n",
    "items_df.count()\n",
    "purchases_df.count()"
   ]
  },
  {
   "cell_type": "markdown",
   "id": "dfe5e6c4-978b-4b33-bf73-1e7039f4dbd6",
   "metadata": {},
   "source": [
    "Now that we have the `purchases_df`, let's calculate the `purchase_summary` data frame out of it."
   ]
  },
  {
   "cell_type": "code",
   "execution_count": 63,
   "id": "2dfc1fb0-b720-4383-86b1-45b83ddad164",
   "metadata": {},
   "outputs": [],
   "source": [
    "# Calculate the purchase summary\n",
    "purchase_summary_df = purchases_df.groupBy(\"item_id\") \\\n",
    "    .agg(\n",
    "        F.sum(\"purchase_price\").alias(\"revenue\"),\n",
    "        F.count(\"id\").alias(\"orders\"),\n",
    "        F.sum(\"quantity\").alias(\"items_sold\")\n",
    "    )"
   ]
  },
  {
   "cell_type": "markdown",
   "id": "3d61c74c-b2b4-4d12-8734-62ab2954a589",
   "metadata": {},
   "source": [
    "Let's also read the content inside the MinIO bucket `pageviews` into another data frame."
   ]
  },
  {
   "cell_type": "code",
   "execution_count": 64,
   "id": "8dcb98f9-8047-4b06-b44d-3f68f53e1e8a",
   "metadata": {},
   "outputs": [
    {
     "name": "stdout",
     "output_type": "stream",
     "text": [
      "root\n",
      " |-- channel: string (nullable = true)\n",
      " |-- received_at: long (nullable = true)\n",
      " |-- url: string (nullable = true)\n",
      " |-- user_id: long (nullable = true)\n",
      " |-- item_id: string (nullable = true)\n",
      " |-- pageview_type: string (nullable = true)\n",
      "\n"
     ]
    }
   ],
   "source": [
    "# Define the bucket and file path\n",
    "bucket_name = \"pageviews\"\n",
    "file_path = f\"s3a://{bucket_name}/*.json\"\n",
    "\n",
    "# Read JSON files from the MinIO bucket into a DataFrame\n",
    "pageviews_df = spark.read.json(file_path)"
   ]
  },
  {
   "cell_type": "code",
   "execution_count": 65,
   "id": "2b9cd1f1-e1ce-4f62-96b3-40bd1b110edd",
   "metadata": {},
   "outputs": [
    {
     "name": "stdout",
     "output_type": "stream",
     "text": [
      "+-------+--------------+-------------+---------+\n",
      "|item_id|       channel|pageview_type|pageviews|\n",
      "+-------+--------------+-------------+---------+\n",
      "|    881|        social|     products|        5|\n",
      "|    156|   paid search|     products|        4|\n",
      "|    604|   paid search|     products|        4|\n",
      "|    482|      referral|     products|        4|\n",
      "|    658|      referral|     products|        4|\n",
      "|    754|      referral|     products|        4|\n",
      "|    377|      referral|     products|        4|\n",
      "|    297|      referral|     products|        4|\n",
      "|    804|      referral|     products|        4|\n",
      "|    166|       display|     products|        4|\n",
      "|    964|        social|     products|        4|\n",
      "|    354|        social|     products|        4|\n",
      "|     19|       display|     products|        4|\n",
      "|    330|        social|     products|        4|\n",
      "|    388|organic search|     products|        3|\n",
      "|     77|organic search|     products|        3|\n",
      "|    185|organic search|     products|        3|\n",
      "|    640|organic search|     products|        3|\n",
      "|    603|organic search|     products|        3|\n",
      "|    393|organic search|     products|        3|\n",
      "+-------+--------------+-------------+---------+\n",
      "only showing top 20 rows\n",
      "\n"
     ]
    }
   ],
   "source": [
    "# Enriching the data frame with additionally derived columns\n",
    "enriched_pageviews_df = pageviews_df \\\n",
    ".withColumn(\"item_id\", F.split(F.col(\"url\"), \"/\").getItem(2)) \\\n",
    ".withColumn(\"pageview_type\", F.split(F.col(\"url\"), \"/\").getItem(1))\n",
    "\n",
    "item_pageviews_df=enriched_pageviews_df \\\n",
    ".groupBy(\"item_id\", \"channel\", \"pageview_type\") \\\n",
    ".agg(\n",
    "    F.count(\"*\").alias(\"pageviews\")\n",
    ")\\\n",
    ".filter('pageview_type == \"products\"') \\\n",
    ".sort(F.col(\"pageviews\").desc()) \\\n",
    "\n",
    "item_pageviews_df.show()"
   ]
  },
  {
   "cell_type": "markdown",
   "id": "56fe9ea0-4507-45d4-a547-7b98fb0713f8",
   "metadata": {},
   "source": [
    "Now that we have two data frames ready, `purchase_summary_df` and `item_pageviews_df`, let's go ahead create our final data frame, `item_summary_df`."
   ]
  },
  {
   "cell_type": "code",
   "execution_count": 73,
   "id": "d0bc25a9-d751-4de7-b77a-bc1585799a00",
   "metadata": {},
   "outputs": [
    {
     "name": "stdout",
     "output_type": "stream",
     "text": [
      "+--------------------+-------------+----------+------+-------+---------+-------------------+\n",
      "|           item_name|item_category|items_sold|orders|revenue|pageviews|    conversion_rate|\n",
      "+--------------------+-------------+----------+------+-------+---------+-------------------+\n",
      "|ophthalmologist a...|      gadgets|         2|     2|  55.18|        5|                0.4|\n",
      "|    wrinkles bracket|      doodads|         2|     1| 724.12|        1|                1.0|\n",
      "|     religion France|    clearance|         5|     1|1475.70|        1|                1.0|\n",
      "|       bongos cactus|      widgets|        16|     4|1842.40|        4|                1.0|\n",
      "|        geology oval|      gadgets|         9|     3|1670.04|        7|0.42857142857142855|\n",
      "|     equipment jeans|      gadgets|        10|     2|2552.00|        2|                1.0|\n",
      "|      rainstorm beef|      gadgets|        12|     3|4578.84|        4|               0.75|\n",
      "|         snail spear|      widgets|         4|     2|  66.40|        4|                0.5|\n",
      "|       wedge missile|      gadgets|        12|     3|2610.12|        4|               0.75|\n",
      "| pharmacist football|      doodads|         8|     4|2180.56|        5|                0.8|\n",
      "|scorpion North Korea|      widgets|         4|     4|1778.68|        7| 0.5714285714285714|\n",
      "|     lyre experience|      widgets|        12|     3|5582.16|        5|                0.6|\n",
      "|       control lunch|    clearance|         2|     2| 438.38|        4|                0.5|\n",
      "|   circulation pilot|      gadgets|         2|     2| 939.48|        3| 0.6666666666666666|\n",
      "|    apartment Europe|      widgets|         3|     3|1023.42|        4|               0.75|\n",
      "|      creditor study|      gadgets|        12|     4|3076.80|        5|                0.8|\n",
      "|          root China|      gadgets|        18|     6| 949.68|        8|               0.75|\n",
      "|            play war|      doodads|        12|     4|4583.04|        5|                0.8|\n",
      "|       month clipper|    clearance|         6|     2| 855.60|        2|                1.0|\n",
      "|          cough note|      widgets|        15|     3| 601.95|        3|                1.0|\n",
      "+--------------------+-------------+----------+------+-------+---------+-------------------+\n",
      "only showing top 20 rows\n",
      "\n"
     ]
    }
   ],
   "source": [
    "item_summary_df = items_df.alias(\"items\") \\\n",
    "    .join(purchase_summary_df.alias(\"purchase_summary\"), F.col(\"items.id\") == F.col(\"purchase_summary.item_id\")) \\\n",
    "    .join(item_pageviews_df.alias(\"item_pageviews\"), F.col(\"items.id\") == F.col(\"item_pageviews.item_id\")) \\\n",
    "    .groupBy(F.col(\"items.name\").alias(\"item_name\"), F.col(\"items.category\").alias(\"item_category\")) \\\n",
    "    .agg(\n",
    "        F.sum(\"purchase_summary.items_sold\").alias(\"items_sold\"),\n",
    "        F.sum(\"purchase_summary.orders\").alias(\"orders\"),\n",
    "        F.sum(\"purchase_summary.revenue\").alias(\"revenue\"),\n",
    "        F.sum(\"item_pageviews.pageviews\").alias(\"pageviews\"),\n",
    "        (F.sum(\"purchase_summary.orders\") / F.sum(\"item_pageviews.pageviews\")).alias(\"conversion_rate\")\n",
    "    ) \\\n",
    "\n",
    "item_summary_df.show()"
   ]
  }
 ],
 "metadata": {
  "kernelspec": {
   "display_name": "Python 3 (ipykernel)",
   "language": "python",
   "name": "python3"
  },
  "language_info": {
   "codemirror_mode": {
    "name": "ipython",
    "version": 3
   },
   "file_extension": ".py",
   "mimetype": "text/x-python",
   "name": "python",
   "nbconvert_exporter": "python",
   "pygments_lexer": "ipython3",
   "version": "3.11.6"
  }
 },
 "nbformat": 4,
 "nbformat_minor": 5
}
