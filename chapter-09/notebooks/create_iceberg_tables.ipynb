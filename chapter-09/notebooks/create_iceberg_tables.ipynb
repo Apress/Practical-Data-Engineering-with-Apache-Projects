{
 "cells": [
  {
   "cell_type": "code",
   "execution_count": 1,
   "id": "e3a162fe-3dc9-4a7e-aba9-2f5e3724bb3a",
   "metadata": {},
   "outputs": [
    {
     "name": "stderr",
     "output_type": "stream",
     "text": [
      "25/07/01 05:50:05 WARN SparkSession: Using an existing Spark session; only runtime SQL configurations will take effect.\n"
     ]
    },
    {
     "data": {
      "text/html": [
       "<table>\n",
       "    <thead>\n",
       "        <tr>\n",
       "        </tr>\n",
       "    </thead>\n",
       "    <tbody>\n",
       "    </tbody>\n",
       "</table>"
      ],
      "text/plain": [
       "++\n",
       "||\n",
       "++\n",
       "++"
      ]
     },
     "execution_count": 1,
     "metadata": {},
     "output_type": "execute_result"
    }
   ],
   "source": [
    "%%sql\n",
    "\n",
    "CREATE DATABASE IF NOT EXISTS bronze;"
   ]
  },
  {
   "cell_type": "code",
   "execution_count": 2,
   "id": "6a54f68a-6b0a-456e-9493-c8d669bd95a5",
   "metadata": {},
   "outputs": [
    {
     "data": {
      "text/html": [
       "<table>\n",
       "    <thead>\n",
       "        <tr>\n",
       "        </tr>\n",
       "    </thead>\n",
       "    <tbody>\n",
       "    </tbody>\n",
       "</table>"
      ],
      "text/plain": [
       "++\n",
       "||\n",
       "++\n",
       "++"
      ]
     },
     "execution_count": 2,
     "metadata": {},
     "output_type": "execute_result"
    }
   ],
   "source": [
    "%%sql \n",
    "\n",
    "CREATE DATABASE IF NOT EXISTS silver;"
   ]
  },
  {
   "cell_type": "code",
   "execution_count": 3,
   "id": "e8402e5c-2c94-4bee-866e-79f13515827b",
   "metadata": {},
   "outputs": [
    {
     "data": {
      "text/html": [
       "<table>\n",
       "    <thead>\n",
       "        <tr>\n",
       "        </tr>\n",
       "    </thead>\n",
       "    <tbody>\n",
       "    </tbody>\n",
       "</table>"
      ],
      "text/plain": [
       "++\n",
       "||\n",
       "++\n",
       "++"
      ]
     },
     "execution_count": 3,
     "metadata": {},
     "output_type": "execute_result"
    }
   ],
   "source": [
    "%%sql \n",
    "\n",
    "CREATE DATABASE IF NOT EXISTS gold;"
   ]
  },
  {
   "cell_type": "code",
   "execution_count": 4,
   "id": "6cf018e4-8542-4619-b1a4-cc88840b8210",
   "metadata": {},
   "outputs": [
    {
     "data": {
      "text/html": [
       "<table>\n",
       "    <thead>\n",
       "        <tr>\n",
       "        </tr>\n",
       "    </thead>\n",
       "    <tbody>\n",
       "    </tbody>\n",
       "</table>"
      ],
      "text/plain": [
       "++\n",
       "||\n",
       "++\n",
       "++"
      ]
     },
     "execution_count": 4,
     "metadata": {},
     "output_type": "execute_result"
    }
   ],
   "source": [
    "%%sql\n",
    "\n",
    "CREATE TABLE IF NOT EXISTS bronze.users (\n",
    "    id BIGINT,\n",
    "    first_name STRING,\n",
    "    last_name STRING,\n",
    "    email STRING,\n",
    "    created_at TIMESTAMP,\n",
    "    updated_at TIMESTAMP\n",
    ")\n",
    "USING iceberg\n",
    "PARTITIONED BY (days(created_at))\n",
    "TBLPROPERTIES (\n",
    "    'format-version' = '2',\n",
    "    'comment' = 'Dimension table for user information'\n",
    ");"
   ]
  },
  {
   "cell_type": "code",
   "execution_count": 5,
   "id": "f7e6be01-8933-43de-b26e-a39302b0fb42",
   "metadata": {},
   "outputs": [
    {
     "data": {
      "text/html": [
       "<table>\n",
       "    <thead>\n",
       "        <tr>\n",
       "        </tr>\n",
       "    </thead>\n",
       "    <tbody>\n",
       "    </tbody>\n",
       "</table>"
      ],
      "text/plain": [
       "++\n",
       "||\n",
       "++\n",
       "++"
      ]
     },
     "execution_count": 5,
     "metadata": {},
     "output_type": "execute_result"
    }
   ],
   "source": [
    "%%sql\n",
    "\n",
    "CREATE TABLE IF NOT EXISTS bronze.items (\n",
    "    id BIGINT,\n",
    "    name STRING,\n",
    "    category STRING,\n",
    "    price DECIMAL(7,2),\n",
    "    inventory INT,\n",
    "    created_at TIMESTAMP,\n",
    "    updated_at TIMESTAMP\n",
    ")\n",
    "USING iceberg\n",
    "PARTITIONED BY (category)\n",
    "TBLPROPERTIES (\n",
    "    'format-version' = '2',\n",
    "    'comment' = 'Dimension table for product items'\n",
    ");"
   ]
  },
  {
   "cell_type": "code",
   "execution_count": 6,
   "id": "a88dad78-f0cb-4617-8a82-54ecff9261bc",
   "metadata": {},
   "outputs": [
    {
     "data": {
      "text/html": [
       "<table>\n",
       "    <thead>\n",
       "        <tr>\n",
       "        </tr>\n",
       "    </thead>\n",
       "    <tbody>\n",
       "    </tbody>\n",
       "</table>"
      ],
      "text/plain": [
       "++\n",
       "||\n",
       "++\n",
       "++"
      ]
     },
     "execution_count": 6,
     "metadata": {},
     "output_type": "execute_result"
    }
   ],
   "source": [
    "%%sql\n",
    "\n",
    "CREATE TABLE IF NOT EXISTS bronze.purchases (\n",
    "    id BIGINT,\n",
    "    user_id BIGINT,\n",
    "    item_id BIGINT,\n",
    "    quantity INT,\n",
    "    purchase_price DECIMAL(12,2),\n",
    "    created_at TIMESTAMP,\n",
    "    updated_at TIMESTAMP\n",
    ")\n",
    "USING iceberg\n",
    "PARTITIONED BY (days(created_at))\n",
    "TBLPROPERTIES (\n",
    "    'format-version' = '2',\n",
    "    'comment' = 'Fact table for purchase transactions'\n",
    ");"
   ]
  },
  {
   "cell_type": "code",
   "execution_count": 7,
   "id": "7ce6efe8-cc88-4087-a1ab-10e24a58c432",
   "metadata": {},
   "outputs": [
    {
     "data": {
      "text/html": [
       "<table>\n",
       "    <thead>\n",
       "        <tr>\n",
       "        </tr>\n",
       "    </thead>\n",
       "    <tbody>\n",
       "    </tbody>\n",
       "</table>"
      ],
      "text/plain": [
       "++\n",
       "||\n",
       "++\n",
       "++"
      ]
     },
     "execution_count": 7,
     "metadata": {},
     "output_type": "execute_result"
    }
   ],
   "source": [
    "%%sql\n",
    "\n",
    "CREATE TABLE IF NOT EXISTS bronze.pageviews (\n",
    "    user_id BIGINT,\n",
    "    url STRING,\n",
    "    channel STRING,\n",
    "    received_at TIMESTAMP\n",
    ")\n",
    "USING iceberg\n",
    "PARTITIONED BY (days(received_at))\n",
    "TBLPROPERTIES (\n",
    "    'format-version' = '2',\n",
    "    'comment' = 'Fact table for purchase transactions'\n",
    ");"
   ]
  },
  {
   "cell_type": "code",
   "execution_count": 8,
   "id": "c173e66b-3401-406d-9e64-78eb788cd15f",
   "metadata": {},
   "outputs": [
    {
     "data": {
      "text/html": [
       "<table>\n",
       "    <thead>\n",
       "        <tr>\n",
       "        </tr>\n",
       "    </thead>\n",
       "    <tbody>\n",
       "    </tbody>\n",
       "</table>"
      ],
      "text/plain": [
       "++\n",
       "||\n",
       "++\n",
       "++"
      ]
     },
     "execution_count": 8,
     "metadata": {},
     "output_type": "execute_result"
    }
   ],
   "source": [
    "%%sql\n",
    "\n",
    "CREATE TABLE IF NOT EXISTS silver.users (\n",
    "    id BIGINT,\n",
    "    first_name STRING,\n",
    "    last_name STRING,\n",
    "    email STRING,\n",
    "    created_at TIMESTAMP,\n",
    "    updated_at TIMESTAMP,\n",
    "    valid_email BOOLEAN,\n",
    "    full_name STRING\n",
    ")\n",
    "USING iceberg\n",
    "PARTITIONED BY (days(created_at))\n",
    "TBLPROPERTIES (\n",
    "    'format-version' = '2',\n",
    "    'comment' = 'Validated dimension table for user information'\n",
    ");"
   ]
  },
  {
   "cell_type": "code",
   "execution_count": 9,
   "id": "7d476782-2324-4ff9-8ed5-f29816f42052",
   "metadata": {},
   "outputs": [
    {
     "data": {
      "text/html": [
       "<table>\n",
       "    <thead>\n",
       "        <tr>\n",
       "        </tr>\n",
       "    </thead>\n",
       "    <tbody>\n",
       "    </tbody>\n",
       "</table>"
      ],
      "text/plain": [
       "++\n",
       "||\n",
       "++\n",
       "++"
      ]
     },
     "execution_count": 9,
     "metadata": {},
     "output_type": "execute_result"
    }
   ],
   "source": [
    "%%sql\n",
    "    \n",
    "CREATE TABLE IF NOT EXISTS silver.items (\n",
    "    id BIGINT,\n",
    "    name STRING,\n",
    "    category STRING,\n",
    "    price DECIMAL(7,2),\n",
    "    inventory INT,\n",
    "    created_at TIMESTAMP,\n",
    "    updated_at TIMESTAMP\n",
    ")\n",
    "USING iceberg\n",
    "PARTITIONED BY (category)\n",
    "TBLPROPERTIES (\n",
    "    'format-version' = '2',\n",
    "    'comment' = 'Dimension table for product items'\n",
    ");"
   ]
  },
  {
   "cell_type": "code",
   "execution_count": 10,
   "id": "d5d9cade-6cbf-4de3-a78a-5b12c224a2bb",
   "metadata": {},
   "outputs": [
    {
     "data": {
      "text/html": [
       "<table>\n",
       "    <thead>\n",
       "        <tr>\n",
       "        </tr>\n",
       "    </thead>\n",
       "    <tbody>\n",
       "    </tbody>\n",
       "</table>"
      ],
      "text/plain": [
       "++\n",
       "||\n",
       "++\n",
       "++"
      ]
     },
     "execution_count": 10,
     "metadata": {},
     "output_type": "execute_result"
    }
   ],
   "source": [
    "%%sql\n",
    "    \n",
    "CREATE TABLE IF NOT EXISTS silver.purchases_enriched (\n",
    "    id BIGINT,\n",
    "    user_id BIGINT,\n",
    "    item_id BIGINT,\n",
    "    quantity INT,\n",
    "    purchase_price DECIMAL(12,2),\n",
    "    total_price DECIMAL(14,2),         \n",
    "    user_email STRING,                \n",
    "    item_name STRING,\n",
    "    item_category STRING,\n",
    "    purchase_date DATE,\n",
    "    purchase_hour INT,\n",
    "    created_at TIMESTAMP,\n",
    "    updated_at TIMESTAMP                  \n",
    ")\n",
    "USING iceberg\n",
    "PARTITIONED BY (days(created_at))\n",
    "TBLPROPERTIES (\n",
    "    'format-version' = '2',\n",
    "    'comment' = 'Validated and enriched fact table for purchase transactions'\n",
    ");"
   ]
  },
  {
   "cell_type": "code",
   "execution_count": 11,
   "id": "11226642-f0ee-4527-acf2-20c036215837",
   "metadata": {},
   "outputs": [
    {
     "data": {
      "text/html": [
       "<table>\n",
       "    <thead>\n",
       "        <tr>\n",
       "        </tr>\n",
       "    </thead>\n",
       "    <tbody>\n",
       "    </tbody>\n",
       "</table>"
      ],
      "text/plain": [
       "++\n",
       "||\n",
       "++\n",
       "++"
      ]
     },
     "execution_count": 11,
     "metadata": {},
     "output_type": "execute_result"
    }
   ],
   "source": [
    "%%sql\n",
    "    \n",
    "CREATE TABLE IF NOT EXISTS silver.pageviews_by_items (\n",
    "    user_id BIGINT,\n",
    "    item_id BIGINT,\n",
    "    page STRING,\n",
    "    item_name STRING,\n",
    "    item_category STRING,\n",
    "    channel STRING,\n",
    "    received_at TIMESTAMP\n",
    ")\n",
    "USING iceberg\n",
    "PARTITIONED BY (days(received_at))\n",
    "TBLPROPERTIES (\n",
    "    'format-version' = '2',\n",
    "    'comment' = 'Fact table for purchase transactions'\n",
    ");"
   ]
  },
  {
   "cell_type": "code",
   "execution_count": null,
   "id": "988b9b28-8012-498e-b800-5e55210e09b8",
   "metadata": {},
   "outputs": [],
   "source": [
    "%%sql\n",
    "    \n",
    "CREATE TABLE IF NOT EXISTS gold.als_training_input (\n",
    "  user_id INT,\n",
    "  item_id INT,\n",
    "  interaction_score FLOAT,\n",
    "  interaction_type STRING,\n",
    "  feature_ts TIMESTAMP,\n",
    "  feature_version STRING\n",
    ")\n",
    "USING iceberg\n",
    "TBLPROPERTIES (\n",
    "    'format-version' = '2',\n",
    "    'comment' = 'Table storing cleaned, high-quality computed features'\n",
    ");"
   ]
  }
 ],
 "metadata": {
  "kernelspec": {
   "display_name": "Python 3 (ipykernel)",
   "language": "python",
   "name": "python3"
  },
  "language_info": {
   "codemirror_mode": {
    "name": "ipython",
    "version": 3
   },
   "file_extension": ".py",
   "mimetype": "text/x-python",
   "name": "python",
   "nbconvert_exporter": "python",
   "pygments_lexer": "ipython3",
   "version": "3.10.16"
  }
 },
 "nbformat": 4,
 "nbformat_minor": 5
}
